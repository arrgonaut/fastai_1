{
 "cells": [
  {
   "cell_type": "code",
   "execution_count": 1,
   "metadata": {
    "collapsed": true
   },
   "outputs": [],
   "source": [
    "%matplotlib inline"
   ]
  },
  {
   "cell_type": "code",
   "execution_count": 2,
   "metadata": {
    "collapsed": true
   },
   "outputs": [],
   "source": [
    "from __future__ import division, print_function\n",
    "\n",
    "import os, json\n",
    "from glob import glob\n",
    "import numpy as np\n",
    "np.set_printoptions (precision=4, linewidth=100)\n",
    "from matplotlib import pyplot as plt\n",
    "from os.path import *\n",
    "import pprint"
   ]
  },
  {
   "cell_type": "code",
   "execution_count": 3,
   "metadata": {},
   "outputs": [
    {
     "name": "stderr",
     "output_type": "stream",
     "text": [
      "Using Theano backend.\n"
     ]
    }
   ],
   "source": [
    "import utils; reload (utils)\n",
    "from utils import *"
   ]
  },
  {
   "cell_type": "code",
   "execution_count": 4,
   "metadata": {
    "collapsed": true
   },
   "outputs": [],
   "source": [
    "batch_size=16 #64\n",
    "no_of_epochs=3\n",
    "\n",
    "base_dir = os.getcwd()\n",
    "data_dir = join (base_dir, \"data\")\n",
    "# data_dir = join (data_dir, \"sample\")\n",
    "test_dir = join (data_dir, \"test\")\n",
    "train_dir = join (data_dir, \"train\")\n",
    "valid_dir = join (data_dir, \"valid\")\n",
    "res_dir = join (data_dir, \"results\")"
   ]
  },
  {
   "cell_type": "code",
   "execution_count": 5,
   "metadata": {
    "collapsed": true
   },
   "outputs": [],
   "source": [
    "import vgg16; reload (vgg16)\n",
    "from vgg16 import Vgg16"
   ]
  },
  {
   "cell_type": "code",
   "execution_count": 6,
   "metadata": {},
   "outputs": [
    {
     "name": "stdout",
     "output_type": "stream",
     "text": [
      "Found 23000 images belonging to 2 classes.\n",
      "Found 2000 images belonging to 2 classes.\n",
      "Running epoch: 0\n",
      "Epoch 1/1\n",
      "23000/23000 [==============================] - 5960s - loss: 0.4684 - acc: 0.9656 - val_loss: 0.2536 - val_acc: 0.9830\n",
      "Running epoch: 1\n",
      "Epoch 1/1\n",
      "23000/23000 [==============================] - 5967s - loss: 0.4030 - acc: 0.9729 - val_loss: 0.2825 - val_acc: 0.9805\n",
      "Running epoch: 2\n",
      "Epoch 1/1\n",
      "23000/23000 [==============================] - 5971s - loss: 0.4082 - acc: 0.9732 - val_loss: 0.2259 - val_acc: 0.9835\n",
      "Completed 3 fit operations\n",
      "Time take: 71062.945334 s\n"
     ]
    }
   ],
   "source": [
    "import time\n",
    "start_time = time.clock ()\n",
    "\n",
    "vgg = Vgg16 ()\n",
    "batches = vgg.get_batches (train_dir, batch_size=batch_size)\n",
    "val_batches = vgg.get_batches (valid_dir, batch_size=batch_size*2)\n",
    "vgg.finetune (batches)\n",
    "\n",
    "vgg.model.optimizer.lr = 0.01\n",
    "\n",
    "latest_weights_filename = None\n",
    "\n",
    "for epoch in range (no_of_epochs):\n",
    "    print (\"Running epoch: %0d\" % epoch)\n",
    "    vgg.fit (batches, val_batches, nb_epoch=1)\n",
    "    latest_weights_filename = \"ft%0d.h5\" % epoch\n",
    "    vgg.model.save_weights (join (res_dir, latest_weights_filename))\n",
    "\n",
    "print (\"Completed %0d fit operations\" % no_of_epochs)\n",
    "\n",
    "time_taken = time.clock () - start_time\n",
    "print (\"Time take: %f s\" % (time_taken))"
   ]
  },
  {
   "cell_type": "code",
   "execution_count": 11,
   "metadata": {},
   "outputs": [
    {
     "name": "stdout",
     "output_type": "stream",
     "text": [
      "/Users/sukruthp/Documents/fastai/mywork/fastai_1/data/test\n"
     ]
    }
   ],
   "source": [
    "print (test_dir)"
   ]
  },
  {
   "cell_type": "code",
   "execution_count": 12,
   "metadata": {},
   "outputs": [
    {
     "name": "stdout",
     "output_type": "stream",
     "text": [
      "Found 12500 images belonging to 1 classes.\n"
     ]
    }
   ],
   "source": [
    "gen, result = vgg.test (test_dir, batch_size=batch_size*2)"
   ]
  },
  {
   "cell_type": "code",
   "execution_count": 13,
   "metadata": {},
   "outputs": [],
   "source": [
    "save_array (join (res_dir, \"test_preds.dat\"), result)\n",
    "save_array (join (res_dir, \"filenames.dat\"), gen.filenames)"
   ]
  },
  {
   "cell_type": "code",
   "execution_count": 14,
   "metadata": {},
   "outputs": [],
   "source": [
    "isdog = result[:,1]\n",
    "isdog = isdog.clip (min=0.05, max=0.95)"
   ]
  },
  {
   "cell_type": "code",
   "execution_count": 15,
   "metadata": {
    "collapsed": true
   },
   "outputs": [],
   "source": [
    "fnames = gen.filenames"
   ]
  },
  {
   "cell_type": "code",
   "execution_count": 16,
   "metadata": {},
   "outputs": [],
   "source": [
    "ids = np.array ([int (f[8:f.find ('.')]) for f in fnames])"
   ]
  },
  {
   "cell_type": "code",
   "execution_count": 17,
   "metadata": {},
   "outputs": [],
   "source": [
    "subm = np.stack ([ids, isdog], axis = 1)"
   ]
  },
  {
   "cell_type": "code",
   "execution_count": 18,
   "metadata": {},
   "outputs": [],
   "source": [
    "sub_file = join (data_dir, \"submission1.csv\")"
   ]
  },
  {
   "cell_type": "code",
   "execution_count": 19,
   "metadata": {},
   "outputs": [],
   "source": [
    "np.savetxt (sub_file, subm, fmt='%0d,%.5f', header='id,label', comments='')"
   ]
  },
  {
   "cell_type": "code",
   "execution_count": 20,
   "metadata": {},
   "outputs": [
    {
     "name": "stdout",
     "output_type": "stream",
     "text": [
      "/Users/sukruthp/Documents/fastai/mywork/fastai_1/data/submission1.csv\n"
     ]
    }
   ],
   "source": [
    "print (sub_file)"
   ]
  },
  {
   "cell_type": "code",
   "execution_count": 21,
   "metadata": {},
   "outputs": [
    {
     "data": {
      "text/html": [
       "<a href='/Users/sukruthp/Documents/fastai/mywork/fastai_1/data/submission1.csv' target='_blank'>/Users/sukruthp/Documents/fastai/mywork/fastai_1/data/submission1.csv</a><br>"
      ],
      "text/plain": [
       "/Users/sukruthp/Documents/fastai/mywork/fastai_1/data/submission1.csv"
      ]
     },
     "execution_count": 21,
     "metadata": {},
     "output_type": "execute_result"
    }
   ],
   "source": [
    "from IPython.display import FileLink\n",
    "FileLink (sub_file)"
   ]
  },
  {
   "cell_type": "code",
   "execution_count": null,
   "metadata": {
    "collapsed": true
   },
   "outputs": [],
   "source": []
  }
 ],
 "metadata": {
  "kernelspec": {
   "display_name": "Python 2",
   "language": "python",
   "name": "python2"
  },
  "language_info": {
   "codemirror_mode": {
    "name": "ipython",
    "version": 2
   },
   "file_extension": ".py",
   "mimetype": "text/x-python",
   "name": "python",
   "nbconvert_exporter": "python",
   "pygments_lexer": "ipython2",
   "version": "2.7.13"
  }
 },
 "nbformat": 4,
 "nbformat_minor": 2
}
