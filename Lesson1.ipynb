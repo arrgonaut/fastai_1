{
 "cells": [
  {
   "cell_type": "code",
   "execution_count": 1,
   "metadata": {
    "collapsed": true
   },
   "outputs": [],
   "source": [
    "%matplotlib inline"
   ]
  },
  {
   "cell_type": "code",
   "execution_count": 2,
   "metadata": {
    "collapsed": true
   },
   "outputs": [],
   "source": [
    "from __future__ import division, print_function\n",
    "\n",
    "import os, json\n",
    "from glob import glob\n",
    "import numpy as np\n",
    "np.set_printoptions (precision=4, linewidth=100)\n",
    "from matplotlib import pyplot as plt\n",
    "from os.path import *\n",
    "import pprint"
   ]
  },
  {
   "cell_type": "code",
   "execution_count": 3,
   "metadata": {},
   "outputs": [
    {
     "name": "stderr",
     "output_type": "stream",
     "text": [
      "Using Theano backend.\n"
     ]
    }
   ],
   "source": [
    "import utils; reload (utils)\n",
    "from utils import plots"
   ]
  },
  {
   "cell_type": "code",
   "execution_count": 4,
   "metadata": {},
   "outputs": [],
   "source": [
    "batch_size=2\n",
    "\n",
    "base_dir = os.getcwd()\n",
    "data_dir = join (base_dir, \"data\")\n",
    "data_dir = join (data_dir, \"sample\")\n",
    "test_dir = join (data_dir, \"test\")\n",
    "train_dir = join (data_dir, \"train\")\n",
    "valid_dir = join (data_dir, \"valid\")"
   ]
  },
  {
   "cell_type": "code",
   "execution_count": 5,
   "metadata": {},
   "outputs": [],
   "source": [
    "import vgg16; reload (vgg16)\n",
    "from vgg16 import Vgg16"
   ]
  },
  {
   "cell_type": "code",
   "execution_count": 6,
   "metadata": {},
   "outputs": [
    {
     "name": "stdout",
     "output_type": "stream",
     "text": [
      "Found 10 images belonging to 2 classes.\n",
      "Found 10 images belonging to 2 classes.\n",
      "Epoch 1/1\n",
      "10/10 [==============================] - 15s - loss: 1.4312 - acc: 0.2000 - val_loss: 1.4014 - val_acc: 0.5000\n"
     ]
    }
   ],
   "source": [
    "vgg = Vgg16 ()\n",
    "batches = vgg.get_batches (train_dir, batch_size=batch_size)\n",
    "val_batches = vgg.get_batches (valid_dir, batch_size=batch_size*2)\n",
    "vgg.finetune (batches)\n",
    "vgg.fit (batches, val_batches, nb_epoch=1)"
   ]
  },
  {
   "cell_type": "code",
   "execution_count": 7,
   "metadata": {},
   "outputs": [
    {
     "name": "stdout",
     "output_type": "stream",
     "text": [
      "C:\\cygwin64\\home\\sukruthp\\Documents\\fastai\\mycode\\fastai_1\\data\\sample\\test\n"
     ]
    }
   ],
   "source": [
    "print (test_dir)"
   ]
  },
  {
   "cell_type": "code",
   "execution_count": 8,
   "metadata": {},
   "outputs": [
    {
     "name": "stdout",
     "output_type": "stream",
     "text": [
      "Found 5 images belonging to 1 classes.\n",
      "(   <keras.preprocessing.image.DirectoryIterator object at 0x000000000F6F5F60>,\n",
      "    array([[  9.9995e-01,   5.3195e-05],\n",
      "       [  9.9993e-01,   6.7181e-05],\n",
      "       [  9.8514e-01,   1.4858e-02],\n",
      "       [  8.9716e-01,   1.0284e-01],\n",
      "       [  7.5509e-01,   2.4491e-01]], dtype=float32))\n"
     ]
    }
   ],
   "source": [
    "pp = pprint.PrettyPrinter (indent=4)\n",
    "pp.pprint (vgg.test(test_dir, batch_size))"
   ]
  },
  {
   "cell_type": "code",
   "execution_count": 9,
   "metadata": {},
   "outputs": [
    {
     "name": "stdout",
     "output_type": "stream",
     "text": [
      "Found 5 images belonging to 1 classes.\n"
     ]
    }
   ],
   "source": [
    "gen, result = vgg.test (test_dir, batch_size)"
   ]
  },
  {
   "cell_type": "code",
   "execution_count": 10,
   "metadata": {},
   "outputs": [
    {
     "name": "stdout",
     "output_type": "stream",
     "text": [
      "<keras.preprocessing.image.DirectoryIterator object at 0x000000001AAF2C50>\n"
     ]
    }
   ],
   "source": [
    "pp.pprint (gen)"
   ]
  },
  {
   "cell_type": "code",
   "execution_count": 11,
   "metadata": {},
   "outputs": [
    {
     "name": "stdout",
     "output_type": "stream",
     "text": [
      "{'batch_index': 1, 'shuffle': False, 'index_generator': <generator object _flow_index at 0x000000001A7CB678>, 'lock': <thread.lock object at 0x0000000012102430>, 'save_format': 'jpeg', 'dim_ordering': 'th', 'nb_sample': 5, 'save_to_dir': None, 'color_mode': 'rgb', 'image_shape': (3, 224, 224), 'target_size': (224, 224), 'save_prefix': '', 'image_data_generator': <keras.preprocessing.image.ImageDataGenerator object at 0x000000000F6F5C50>, 'class_mode': None, 'class_indices': {'unknown': 0}, 'total_batches_seen': 13, 'batch_size': 2, 'filenames': ['unknown\\\\1978.jpg', 'unknown\\\\3465.jpg', 'unknown\\\\3946.jpg', 'unknown\\\\5819.jpg', 'unknown\\\\7228.jpg'], 'nb_class': 1, 'n': 5, 'classes': array([0, 0, 0, 0, 0]), 'directory': 'C:\\\\cygwin64\\\\home\\\\sukruthp\\\\Documents\\\\fastai\\\\mycode\\\\fastai_1\\\\data\\\\sample\\\\test'}\n"
     ]
    }
   ],
   "source": [
    "print (vars(gen))"
   ]
  },
  {
   "cell_type": "code",
   "execution_count": 20,
   "metadata": {},
   "outputs": [
    {
     "name": "stdout",
     "output_type": "stream",
     "text": [
      "Found 5 images belonging to 1 classes.\n"
     ]
    }
   ],
   "source": [
    "test_batch = vgg.get_batches (test_dir, batch_size=batch_size, class_mode=None)"
   ]
  },
  {
   "cell_type": "code",
   "execution_count": 23,
   "metadata": {},
   "outputs": [
    {
     "ename": "SyntaxError",
     "evalue": "unexpected EOF while parsing (<ipython-input-23-066433eb5f82>, line 1)",
     "output_type": "error",
     "traceback": [
      "\u001b[1;36m  File \u001b[1;32m\"<ipython-input-23-066433eb5f82>\"\u001b[1;36m, line \u001b[1;32m1\u001b[0m\n\u001b[1;33m    def pred_batch (imgs):\u001b[0m\n\u001b[1;37m                          ^\u001b[0m\n\u001b[1;31mSyntaxError\u001b[0m\u001b[1;31m:\u001b[0m unexpected EOF while parsing\n"
     ]
    }
   ],
   "source": [
    "def pred_batch (imgs):\n",
    "    preds = vgg.model.predict (imgs)\n",
    "    idxs = np.argmax (preds, axis=1)\n",
    "    \n",
    "    print ('Shape: {}'.format (preds.shape))\n",
    "    print "
   ]
  },
  {
   "cell_type": "code",
   "execution_count": null,
   "metadata": {
    "collapsed": true
   },
   "outputs": [],
   "source": []
  }
 ],
 "metadata": {
  "kernelspec": {
   "display_name": "Python 2",
   "language": "python",
   "name": "python2"
  },
  "language_info": {
   "codemirror_mode": {
    "name": "ipython",
    "version": 2
   },
   "file_extension": ".py",
   "mimetype": "text/x-python",
   "name": "python",
   "nbconvert_exporter": "python",
   "pygments_lexer": "ipython2",
   "version": "2.7.13"
  }
 },
 "nbformat": 4,
 "nbformat_minor": 2
}
